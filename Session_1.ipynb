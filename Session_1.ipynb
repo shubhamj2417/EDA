{
 "cells": [
  {
   "cell_type": "code",
   "execution_count": null,
   "id": "3182cdd6",
   "metadata": {},
   "outputs": [],
   "source": [
    "===================================EDA========================\n",
    "                              \n",
    "\n",
    "1) pandas : Dataframe application \n",
    "    \n",
    "2) Numpy : Numerical python All math application\n",
    "    \n",
    "3) Matplotlip : used for plotting \n",
    "    \n",
    "4) Seaborn : used for plot\n",
    "    \n",
    "5) Plotly : used for plot \n",
    "    \n",
    "6) Bokhe  : plot \n",
    "    \n",
    "    \n",
    "================================Machine learning===================\n",
    "\n",
    "1) Sickit-Learn : sklearn\n",
    "    \n",
    "\n",
    "================================Deep Learning=======================\n",
    "\n",
    "\n",
    "8) Tensorflow : Google \n",
    "    \n",
    "    \n",
    "9) Keras      : Google \n",
    "    \n",
    "\n",
    "10) Pythorch   : Facebook\n",
    "    \n",
    "    \n",
    "=====================================NLP ============================\n",
    "\n",
    "11) NLKT  : Natural langague tool Kit \n",
    "    \n",
    "\n",
    "12) Scipy \n",
    "\n",
    "\n",
    "\n",
    "==================================== BERT =============================\n",
    "\n",
    "13) Transformers  : Hugging face (Google)\n",
    "    \n",
    "    \n",
    "    \n",
    "=====================================Google Models =====================\n",
    "\n",
    "14) Specific google packages \n",
    "\n",
    "\n",
    "====================================== Azure ML==========================\n",
    "\n",
    "15) Gemiani : Google \n",
    "    \n",
    "17) ChatGpt : OPenAI\n",
    "    \n",
    "    \n",
    "============================================= LangChain =====================\n",
    "\n",
    "18) LangChain packages"
   ]
  },
  {
   "cell_type": "markdown",
   "id": "5b6bdb6b",
   "metadata": {},
   "source": [
    "**Create a DataFrame using List** "
   ]
  },
  {
   "cell_type": "code",
   "execution_count": null,
   "id": "ff952d31",
   "metadata": {},
   "outputs": [],
   "source": [
    "- list ==== Dictionary \n",
    "\n",
    "- dictonary ===== list "
   ]
  },
  {
   "cell_type": "markdown",
   "id": "aabdd10a",
   "metadata": {},
   "source": [
    "$Step-1$"
   ]
  },
  {
   "cell_type": "code",
   "execution_count": 1,
   "id": "54240ed1",
   "metadata": {},
   "outputs": [
    {
     "name": "stderr",
     "output_type": "stream",
     "text": [
      "C:\\Users\\RUDRA JAWANE\\AppData\\Roaming\\Python\\Python311\\site-packages\\pandas\\core\\arrays\\masked.py:60: UserWarning: Pandas requires version '1.3.6' or newer of 'bottleneck' (version '1.3.5' currently installed).\n",
      "  from pandas.core import (\n"
     ]
    },
    {
     "data": {
      "text/html": [
       "<div>\n",
       "<style scoped>\n",
       "    .dataframe tbody tr th:only-of-type {\n",
       "        vertical-align: middle;\n",
       "    }\n",
       "\n",
       "    .dataframe tbody tr th {\n",
       "        vertical-align: top;\n",
       "    }\n",
       "\n",
       "    .dataframe thead th {\n",
       "        text-align: right;\n",
       "    }\n",
       "</style>\n",
       "<table border=\"1\" class=\"dataframe\">\n",
       "  <thead>\n",
       "    <tr style=\"text-align: right;\">\n",
       "      <th></th>\n",
       "    </tr>\n",
       "  </thead>\n",
       "  <tbody>\n",
       "  </tbody>\n",
       "</table>\n",
       "</div>"
      ],
      "text/plain": [
       "Empty DataFrame\n",
       "Columns: []\n",
       "Index: []"
      ]
     },
     "execution_count": 1,
     "metadata": {},
     "output_type": "execute_result"
    }
   ],
   "source": [
    "import pandas as pd \n",
    "\n",
    "names = [ 'Ayush', 'Avinash', 'Akash']\n",
    "\n",
    "pd.DataFrame()                                # Empty dataframe no rows and nno colums"
   ]
  },
  {
   "cell_type": "markdown",
   "id": "ba404634",
   "metadata": {},
   "source": [
    "$Step-2$\n",
    "\n",
    "**Provied the data**"
   ]
  },
  {
   "cell_type": "code",
   "execution_count": 2,
   "id": "1d6f269d",
   "metadata": {},
   "outputs": [
    {
     "data": {
      "text/html": [
       "<div>\n",
       "<style scoped>\n",
       "    .dataframe tbody tr th:only-of-type {\n",
       "        vertical-align: middle;\n",
       "    }\n",
       "\n",
       "    .dataframe tbody tr th {\n",
       "        vertical-align: top;\n",
       "    }\n",
       "\n",
       "    .dataframe thead th {\n",
       "        text-align: right;\n",
       "    }\n",
       "</style>\n",
       "<table border=\"1\" class=\"dataframe\">\n",
       "  <thead>\n",
       "    <tr style=\"text-align: right;\">\n",
       "      <th></th>\n",
       "      <th>0</th>\n",
       "    </tr>\n",
       "  </thead>\n",
       "  <tbody>\n",
       "    <tr>\n",
       "      <th>0</th>\n",
       "      <td>Ayush</td>\n",
       "    </tr>\n",
       "    <tr>\n",
       "      <th>1</th>\n",
       "      <td>Avinash</td>\n",
       "    </tr>\n",
       "    <tr>\n",
       "      <th>2</th>\n",
       "      <td>Akash</td>\n",
       "    </tr>\n",
       "  </tbody>\n",
       "</table>\n",
       "</div>"
      ],
      "text/plain": [
       "         0\n",
       "0    Ayush\n",
       "1  Avinash\n",
       "2    Akash"
      ]
     },
     "execution_count": 2,
     "metadata": {},
     "output_type": "execute_result"
    }
   ],
   "source": [
    "names = [ 'Ayush', 'Avinash', 'Akash']\n",
    "\n",
    "pd.DataFrame(names)               # With rows or column"
   ]
  },
  {
   "cell_type": "code",
   "execution_count": 9,
   "id": "ef8adbd7",
   "metadata": {},
   "outputs": [
    {
     "data": {
      "text/plain": [
       "[20, 25, 30]"
      ]
     },
     "execution_count": 9,
     "metadata": {},
     "output_type": "execute_result"
    }
   ],
   "source": [
    "age= [20,25,30]\n",
    "age"
   ]
  },
  {
   "cell_type": "code",
   "execution_count": 11,
   "id": "a94c0851",
   "metadata": {},
   "outputs": [
    {
     "data": {
      "text/html": [
       "<div>\n",
       "<style scoped>\n",
       "    .dataframe tbody tr th:only-of-type {\n",
       "        vertical-align: middle;\n",
       "    }\n",
       "\n",
       "    .dataframe tbody tr th {\n",
       "        vertical-align: top;\n",
       "    }\n",
       "\n",
       "    .dataframe thead th {\n",
       "        text-align: right;\n",
       "    }\n",
       "</style>\n",
       "<table border=\"1\" class=\"dataframe\">\n",
       "  <thead>\n",
       "    <tr style=\"text-align: right;\">\n",
       "      <th></th>\n",
       "      <th>0</th>\n",
       "      <th>1</th>\n",
       "    </tr>\n",
       "  </thead>\n",
       "  <tbody>\n",
       "    <tr>\n",
       "      <th>0</th>\n",
       "      <td>Ayush</td>\n",
       "      <td>20</td>\n",
       "    </tr>\n",
       "    <tr>\n",
       "      <th>1</th>\n",
       "      <td>Avinash</td>\n",
       "      <td>25</td>\n",
       "    </tr>\n",
       "    <tr>\n",
       "      <th>2</th>\n",
       "      <td>Akash</td>\n",
       "      <td>30</td>\n",
       "    </tr>\n",
       "  </tbody>\n",
       "</table>\n",
       "</div>"
      ],
      "text/plain": [
       "         0   1\n",
       "0    Ayush  20\n",
       "1  Avinash  25\n",
       "2    Akash  30"
      ]
     },
     "execution_count": 11,
     "metadata": {},
     "output_type": "execute_result"
    }
   ],
   "source": [
    "pd.DataFrame(zip(name,age))\n",
    " \n",
    "# What is the frist position Argument : data \n",
    "# Second position argument : index"
   ]
  },
  {
   "cell_type": "code",
   "execution_count": 13,
   "id": "ccb88f04",
   "metadata": {},
   "outputs": [
    {
     "data": {
      "text/html": [
       "<div>\n",
       "<style scoped>\n",
       "    .dataframe tbody tr th:only-of-type {\n",
       "        vertical-align: middle;\n",
       "    }\n",
       "\n",
       "    .dataframe tbody tr th {\n",
       "        vertical-align: top;\n",
       "    }\n",
       "\n",
       "    .dataframe thead th {\n",
       "        text-align: right;\n",
       "    }\n",
       "</style>\n",
       "<table border=\"1\" class=\"dataframe\">\n",
       "  <thead>\n",
       "    <tr style=\"text-align: right;\">\n",
       "      <th></th>\n",
       "      <th>0</th>\n",
       "      <th>1</th>\n",
       "    </tr>\n",
       "  </thead>\n",
       "  <tbody>\n",
       "    <tr>\n",
       "      <th>0</th>\n",
       "      <td>shubham</td>\n",
       "      <td>18</td>\n",
       "    </tr>\n",
       "    <tr>\n",
       "      <th>1</th>\n",
       "      <td>sandip</td>\n",
       "      <td>19</td>\n",
       "    </tr>\n",
       "    <tr>\n",
       "      <th>2</th>\n",
       "      <td>vivek</td>\n",
       "      <td>20</td>\n",
       "    </tr>\n",
       "  </tbody>\n",
       "</table>\n",
       "</div>"
      ],
      "text/plain": [
       "         0   1\n",
       "0  shubham  18\n",
       "1   sandip  19\n",
       "2    vivek  20"
      ]
     },
     "execution_count": 13,
     "metadata": {},
     "output_type": "execute_result"
    }
   ],
   "source": [
    "boys=['shubham','sandip','vivek']\n",
    "roll_no=[18,19,20]\n",
    "pd.DataFrame(zip(boys,roll_no))"
   ]
  },
  {
   "cell_type": "code",
   "execution_count": 14,
   "id": "fc554331",
   "metadata": {},
   "outputs": [
    {
     "data": {
      "text/html": [
       "<div>\n",
       "<style scoped>\n",
       "    .dataframe tbody tr th:only-of-type {\n",
       "        vertical-align: middle;\n",
       "    }\n",
       "\n",
       "    .dataframe tbody tr th {\n",
       "        vertical-align: top;\n",
       "    }\n",
       "\n",
       "    .dataframe thead th {\n",
       "        text-align: right;\n",
       "    }\n",
       "</style>\n",
       "<table border=\"1\" class=\"dataframe\">\n",
       "  <thead>\n",
       "    <tr style=\"text-align: right;\">\n",
       "      <th></th>\n",
       "      <th>0</th>\n",
       "      <th>1</th>\n",
       "      <th>2</th>\n",
       "    </tr>\n",
       "  </thead>\n",
       "  <tbody>\n",
       "    <tr>\n",
       "      <th>0</th>\n",
       "      <td>Ayush</td>\n",
       "      <td>20</td>\n",
       "      <td>hyd</td>\n",
       "    </tr>\n",
       "    <tr>\n",
       "      <th>1</th>\n",
       "      <td>Avinash</td>\n",
       "      <td>25</td>\n",
       "      <td>blr</td>\n",
       "    </tr>\n",
       "    <tr>\n",
       "      <th>2</th>\n",
       "      <td>Akash</td>\n",
       "      <td>30</td>\n",
       "      <td>chennai</td>\n",
       "    </tr>\n",
       "  </tbody>\n",
       "</table>\n",
       "</div>"
      ],
      "text/plain": [
       "         0   1        2\n",
       "0    Ayush  20      hyd\n",
       "1  Avinash  25      blr\n",
       "2    Akash  30  chennai"
      ]
     },
     "execution_count": 14,
     "metadata": {},
     "output_type": "execute_result"
    }
   ],
   "source": [
    "names = [ 'Ayush', 'Avinash', 'Akash']\n",
    "age= [20,25,30]\n",
    "city=['hyd','blr','chennai']\n",
    "pd.DataFrame(zip(name,age,city))"
   ]
  },
  {
   "cell_type": "markdown",
   "id": "51d115fd",
   "metadata": {},
   "source": [
    "$Step-3$\n",
    "\n",
    "**Provied Cloumns names**"
   ]
  },
  {
   "cell_type": "code",
   "execution_count": 17,
   "id": "7d89920f",
   "metadata": {},
   "outputs": [
    {
     "data": {
      "text/html": [
       "<div>\n",
       "<style scoped>\n",
       "    .dataframe tbody tr th:only-of-type {\n",
       "        vertical-align: middle;\n",
       "    }\n",
       "\n",
       "    .dataframe tbody tr th {\n",
       "        vertical-align: top;\n",
       "    }\n",
       "\n",
       "    .dataframe thead th {\n",
       "        text-align: right;\n",
       "    }\n",
       "</style>\n",
       "<table border=\"1\" class=\"dataframe\">\n",
       "  <thead>\n",
       "    <tr style=\"text-align: right;\">\n",
       "      <th></th>\n",
       "      <th>Names</th>\n",
       "      <th>Age</th>\n",
       "    </tr>\n",
       "  </thead>\n",
       "  <tbody>\n",
       "    <tr>\n",
       "      <th>0</th>\n",
       "      <td>Ayush</td>\n",
       "      <td>20</td>\n",
       "    </tr>\n",
       "    <tr>\n",
       "      <th>1</th>\n",
       "      <td>Avinash</td>\n",
       "      <td>25</td>\n",
       "    </tr>\n",
       "    <tr>\n",
       "      <th>2</th>\n",
       "      <td>Akash</td>\n",
       "      <td>30</td>\n",
       "    </tr>\n",
       "  </tbody>\n",
       "</table>\n",
       "</div>"
      ],
      "text/plain": [
       "     Names  Age\n",
       "0    Ayush   20\n",
       "1  Avinash   25\n",
       "2    Akash   30"
      ]
     },
     "execution_count": 17,
     "metadata": {},
     "output_type": "execute_result"
    }
   ],
   "source": [
    "names = [ 'Ayush', 'Avinash', 'Akash']\n",
    "age= [20,25,30]\n",
    "pd.DataFrame(zip(name,age),\n",
    "             columns=['Names','Age'])"
   ]
  },
  {
   "cell_type": "code",
   "execution_count": 3,
   "id": "29206841",
   "metadata": {},
   "outputs": [
    {
     "data": {
      "text/html": [
       "<div>\n",
       "<style scoped>\n",
       "    .dataframe tbody tr th:only-of-type {\n",
       "        vertical-align: middle;\n",
       "    }\n",
       "\n",
       "    .dataframe tbody tr th {\n",
       "        vertical-align: top;\n",
       "    }\n",
       "\n",
       "    .dataframe thead th {\n",
       "        text-align: right;\n",
       "    }\n",
       "</style>\n",
       "<table border=\"1\" class=\"dataframe\">\n",
       "  <thead>\n",
       "    <tr style=\"text-align: right;\">\n",
       "      <th></th>\n",
       "      <th>Names</th>\n",
       "      <th>Age</th>\n",
       "      <th>city</th>\n",
       "    </tr>\n",
       "  </thead>\n",
       "  <tbody>\n",
       "    <tr>\n",
       "      <th>0</th>\n",
       "      <td>Ayush</td>\n",
       "      <td>20</td>\n",
       "      <td>hyd</td>\n",
       "    </tr>\n",
       "    <tr>\n",
       "      <th>1</th>\n",
       "      <td>Avinash</td>\n",
       "      <td>25</td>\n",
       "      <td>blr</td>\n",
       "    </tr>\n",
       "    <tr>\n",
       "      <th>2</th>\n",
       "      <td>Akash</td>\n",
       "      <td>30</td>\n",
       "      <td>chennai</td>\n",
       "    </tr>\n",
       "  </tbody>\n",
       "</table>\n",
       "</div>"
      ],
      "text/plain": [
       "     Names  Age     city\n",
       "0    Ayush   20      hyd\n",
       "1  Avinash   25      blr\n",
       "2    Akash   30  chennai"
      ]
     },
     "execution_count": 3,
     "metadata": {},
     "output_type": "execute_result"
    }
   ],
   "source": [
    "names = [ 'Ayush', 'Avinash', 'Akash']\n",
    "age= [20,25,30]\n",
    "city=['hyd','blr','chennai']\n",
    "\n",
    "data=zip(names,age,city)\n",
    "cols=['Names','Age','city']\n",
    "df= pd.DataFrame(data,columns=cols)                 ## Stored a variable \n",
    "df"
   ]
  },
  {
   "cell_type": "code",
   "execution_count": 23,
   "id": "cd54413c",
   "metadata": {},
   "outputs": [
    {
     "data": {
      "text/plain": [
       "pandas.core.frame.DataFrame"
      ]
     },
     "execution_count": 23,
     "metadata": {},
     "output_type": "execute_result"
    }
   ],
   "source": [
    "type(df)"
   ]
  },
  {
   "cell_type": "markdown",
   "id": "823018ae",
   "metadata": {},
   "source": [
    "$Step-4$\n",
    "\n",
    "**ADD new column**"
   ]
  },
  {
   "cell_type": "markdown",
   "id": "7eb11ec3",
   "metadata": {},
   "source": [
    "- If you want to add new column \n",
    "\n",
    "\n",
    "- First you need to check the number of rows in already existed data\n",
    "\n",
    "- For example in above the dataframe has 3 rows\n",
    "\n",
    "- you need to create a new list with 3 rows\n",
    "\n",
    "- that list equate to the data dataframe\n",
    "\n",
    "- No of rows === to no of column\n"
   ]
  },
  {
   "cell_type": "code",
   "execution_count": 4,
   "id": "296938ce",
   "metadata": {},
   "outputs": [
    {
     "data": {
      "text/html": [
       "<div>\n",
       "<style scoped>\n",
       "    .dataframe tbody tr th:only-of-type {\n",
       "        vertical-align: middle;\n",
       "    }\n",
       "\n",
       "    .dataframe tbody tr th {\n",
       "        vertical-align: top;\n",
       "    }\n",
       "\n",
       "    .dataframe thead th {\n",
       "        text-align: right;\n",
       "    }\n",
       "</style>\n",
       "<table border=\"1\" class=\"dataframe\">\n",
       "  <thead>\n",
       "    <tr style=\"text-align: right;\">\n",
       "      <th></th>\n",
       "      <th>Names</th>\n",
       "      <th>Age</th>\n",
       "      <th>city</th>\n",
       "      <th>JOB</th>\n",
       "    </tr>\n",
       "  </thead>\n",
       "  <tbody>\n",
       "    <tr>\n",
       "      <th>0</th>\n",
       "      <td>Ayush</td>\n",
       "      <td>20</td>\n",
       "      <td>hyd</td>\n",
       "      <td>DS</td>\n",
       "    </tr>\n",
       "    <tr>\n",
       "      <th>1</th>\n",
       "      <td>Avinash</td>\n",
       "      <td>25</td>\n",
       "      <td>blr</td>\n",
       "      <td>DE</td>\n",
       "    </tr>\n",
       "    <tr>\n",
       "      <th>2</th>\n",
       "      <td>Akash</td>\n",
       "      <td>30</td>\n",
       "      <td>chennai</td>\n",
       "      <td>CS</td>\n",
       "    </tr>\n",
       "  </tbody>\n",
       "</table>\n",
       "</div>"
      ],
      "text/plain": [
       "     Names  Age     city JOB\n",
       "0    Ayush   20      hyd  DS\n",
       "1  Avinash   25      blr  DE\n",
       "2    Akash   30  chennai  CS"
      ]
     },
     "execution_count": 4,
     "metadata": {},
     "output_type": "execute_result"
    }
   ],
   "source": [
    "job= ['DS','DE','CS']\n",
    "df['JOB']=job\n",
    "df"
   ]
  },
  {
   "cell_type": "markdown",
   "id": "d1b94512",
   "metadata": {},
   "source": [
    "$Step-5$\n",
    "\n",
    "**Upadate the already Existed Columns**\n",
    "\n",
    "- Create new column and update new column both are same way"
   ]
  },
  {
   "cell_type": "code",
   "execution_count": 28,
   "id": "e0fbabe7",
   "metadata": {},
   "outputs": [
    {
     "data": {
      "text/html": [
       "<div>\n",
       "<style scoped>\n",
       "    .dataframe tbody tr th:only-of-type {\n",
       "        vertical-align: middle;\n",
       "    }\n",
       "\n",
       "    .dataframe tbody tr th {\n",
       "        vertical-align: top;\n",
       "    }\n",
       "\n",
       "    .dataframe thead th {\n",
       "        text-align: right;\n",
       "    }\n",
       "</style>\n",
       "<table border=\"1\" class=\"dataframe\">\n",
       "  <thead>\n",
       "    <tr style=\"text-align: right;\">\n",
       "      <th></th>\n",
       "      <th>Names</th>\n",
       "      <th>Age</th>\n",
       "      <th>city</th>\n",
       "      <th>JOB</th>\n",
       "    </tr>\n",
       "  </thead>\n",
       "  <tbody>\n",
       "    <tr>\n",
       "      <th>0</th>\n",
       "      <td>Ayush</td>\n",
       "      <td>35</td>\n",
       "      <td>hyd</td>\n",
       "      <td>DS</td>\n",
       "    </tr>\n",
       "    <tr>\n",
       "      <th>1</th>\n",
       "      <td>Avinash</td>\n",
       "      <td>40</td>\n",
       "      <td>blr</td>\n",
       "      <td>DE</td>\n",
       "    </tr>\n",
       "    <tr>\n",
       "      <th>2</th>\n",
       "      <td>Akash</td>\n",
       "      <td>45</td>\n",
       "      <td>chennai</td>\n",
       "      <td>CB</td>\n",
       "    </tr>\n",
       "  </tbody>\n",
       "</table>\n",
       "</div>"
      ],
      "text/plain": [
       "     Names  Age     city JOB\n",
       "0    Ayush   35      hyd  DS\n",
       "1  Avinash   40      blr  DE\n",
       "2    Akash   45  chennai  CB"
      ]
     },
     "execution_count": 28,
     "metadata": {},
     "output_type": "execute_result"
    }
   ],
   "source": [
    "df['Age']=[35,40,45]\n",
    "df"
   ]
  },
  {
   "cell_type": "markdown",
   "id": "fe5b01e1",
   "metadata": {},
   "source": [
    "$Step-6$\n",
    "\n",
    "**How to change the index**"
   ]
  },
  {
   "cell_type": "code",
   "execution_count": 7,
   "id": "16bc53ca",
   "metadata": {},
   "outputs": [
    {
     "data": {
      "text/html": [
       "<div>\n",
       "<style scoped>\n",
       "    .dataframe tbody tr th:only-of-type {\n",
       "        vertical-align: middle;\n",
       "    }\n",
       "\n",
       "    .dataframe tbody tr th {\n",
       "        vertical-align: top;\n",
       "    }\n",
       "\n",
       "    .dataframe thead th {\n",
       "        text-align: right;\n",
       "    }\n",
       "</style>\n",
       "<table border=\"1\" class=\"dataframe\">\n",
       "  <thead>\n",
       "    <tr style=\"text-align: right;\">\n",
       "      <th></th>\n",
       "      <th>Names</th>\n",
       "      <th>Age</th>\n",
       "      <th>city</th>\n",
       "    </tr>\n",
       "  </thead>\n",
       "  <tbody>\n",
       "    <tr>\n",
       "      <th>A</th>\n",
       "      <td>Ayush</td>\n",
       "      <td>20</td>\n",
       "      <td>hyd</td>\n",
       "    </tr>\n",
       "    <tr>\n",
       "      <th>B</th>\n",
       "      <td>Avinash</td>\n",
       "      <td>25</td>\n",
       "      <td>blr</td>\n",
       "    </tr>\n",
       "    <tr>\n",
       "      <th>C</th>\n",
       "      <td>Akash</td>\n",
       "      <td>30</td>\n",
       "      <td>chennai</td>\n",
       "    </tr>\n",
       "    <tr>\n",
       "      <th>D</th>\n",
       "      <td>Anvi</td>\n",
       "      <td>40</td>\n",
       "      <td>Mumbai</td>\n",
       "    </tr>\n",
       "  </tbody>\n",
       "</table>\n",
       "</div>"
      ],
      "text/plain": [
       "     Names  Age     city\n",
       "A    Ayush   20      hyd\n",
       "B  Avinash   25      blr\n",
       "C    Akash   30  chennai\n",
       "D     Anvi   40   Mumbai"
      ]
     },
     "execution_count": 7,
     "metadata": {},
     "output_type": "execute_result"
    }
   ],
   "source": [
    "names = [ 'Ayush', 'Avinash', 'Akash','Anvi']\n",
    "age= [20,25,30,40]\n",
    "city=['hyd','blr','chennai','Mumbai']\n",
    "\n",
    "data=zip(names,age,city)\n",
    "cols=['Names','Age','city']\n",
    "idx=['A','B','C','D']\n",
    "df= pd.DataFrame(data,\n",
    "                 index=idx,\n",
    "                 columns=cols)\n",
    "df"
   ]
  },
  {
   "cell_type": "markdown",
   "id": "17bbae02",
   "metadata": {},
   "source": [
    "**Note**\n",
    "\n",
    "\n",
    "- Number of list equal to **Number of columns**\n",
    "\n",
    "- Number of values inside list equals to **Number of rows**\n",
    "\n",
    "- When you create the data all the lists will be in same length"
   ]
  },
  {
   "cell_type": "markdown",
   "id": "7c7fd18d",
   "metadata": {},
   "source": [
    "$Step-7$\n",
    "\n",
    "\n",
    "**Shape**\n",
    "\n",
    "\n",
    "- Number of rows \n",
    "`\n",
    "- Number of columns"
   ]
  },
  {
   "cell_type": "code",
   "execution_count": 8,
   "id": "639b7b32",
   "metadata": {},
   "outputs": [
    {
     "name": "stdout",
     "output_type": "stream",
     "text": [
      "the number of rows are: 4\n",
      "the number of columns are: 3\n"
     ]
    }
   ],
   "source": [
    "df.shape\n",
    "#Matrix format\n",
    "\n",
    "# 4 Rows and 3 columns \n",
    "\n",
    "print(\"the number of rows are:\",df.shape[0])\n",
    "print(\"the number of columns are:\",df.shape[1])"
   ]
  },
  {
   "cell_type": "markdown",
   "id": "99f4b259",
   "metadata": {},
   "source": [
    "$Step-8$\n",
    "\n",
    "**Drop the column**\n",
    "\n",
    "- In order to drop columns we required 3 arguments\n",
    "\n",
    "- Columns name \n",
    "\n",
    "    - The column name we need to mention \n",
    "    \n",
    "- axis \n",
    "\n",
    "   - axis =0 **represent  rows**\n",
    "   \n",
    "   \n",
    "   - axis =1 **represent columns**\n",
    "    \n",
    "    \n",
    "- inplace\n",
    "\n",
    "\n",
    "   - we are drop column means we are modifiing the dataFrame \n",
    "    \n",
    "    - so this modification we want to save variable or different variable \n",
    "    \n",
    "    - if you want to keep in the same variable the **inplace = True**"
   ]
  },
  {
   "cell_type": "code",
   "execution_count": 38,
   "id": "25942373",
   "metadata": {},
   "outputs": [],
   "source": [
    "df.drop('city',\n",
    "       axis=1,\n",
    "       inplace=True)"
   ]
  },
  {
   "cell_type": "code",
   "execution_count": 39,
   "id": "70036159",
   "metadata": {},
   "outputs": [
    {
     "data": {
      "text/html": [
       "<div>\n",
       "<style scoped>\n",
       "    .dataframe tbody tr th:only-of-type {\n",
       "        vertical-align: middle;\n",
       "    }\n",
       "\n",
       "    .dataframe tbody tr th {\n",
       "        vertical-align: top;\n",
       "    }\n",
       "\n",
       "    .dataframe thead th {\n",
       "        text-align: right;\n",
       "    }\n",
       "</style>\n",
       "<table border=\"1\" class=\"dataframe\">\n",
       "  <thead>\n",
       "    <tr style=\"text-align: right;\">\n",
       "      <th></th>\n",
       "      <th>Names</th>\n",
       "      <th>Age</th>\n",
       "    </tr>\n",
       "  </thead>\n",
       "  <tbody>\n",
       "    <tr>\n",
       "      <th>A</th>\n",
       "      <td>Ayush</td>\n",
       "      <td>20</td>\n",
       "    </tr>\n",
       "    <tr>\n",
       "      <th>B</th>\n",
       "      <td>Avinash</td>\n",
       "      <td>25</td>\n",
       "    </tr>\n",
       "    <tr>\n",
       "      <th>C</th>\n",
       "      <td>Akash</td>\n",
       "      <td>30</td>\n",
       "    </tr>\n",
       "    <tr>\n",
       "      <th>D</th>\n",
       "      <td>Anvi</td>\n",
       "      <td>40</td>\n",
       "    </tr>\n",
       "  </tbody>\n",
       "</table>\n",
       "</div>"
      ],
      "text/plain": [
       "     Names  Age\n",
       "A    Ayush   20\n",
       "B  Avinash   25\n",
       "C    Akash   30\n",
       "D     Anvi   40"
      ]
     },
     "execution_count": 39,
     "metadata": {},
     "output_type": "execute_result"
    }
   ],
   "source": [
    "df"
   ]
  },
  {
   "cell_type": "code",
   "execution_count": 43,
   "id": "9efeef9b",
   "metadata": {},
   "outputs": [
    {
     "data": {
      "text/html": [
       "<div>\n",
       "<style scoped>\n",
       "    .dataframe tbody tr th:only-of-type {\n",
       "        vertical-align: middle;\n",
       "    }\n",
       "\n",
       "    .dataframe tbody tr th {\n",
       "        vertical-align: top;\n",
       "    }\n",
       "\n",
       "    .dataframe thead th {\n",
       "        text-align: right;\n",
       "    }\n",
       "</style>\n",
       "<table border=\"1\" class=\"dataframe\">\n",
       "  <thead>\n",
       "    <tr style=\"text-align: right;\">\n",
       "      <th></th>\n",
       "      <th>Names</th>\n",
       "    </tr>\n",
       "  </thead>\n",
       "  <tbody>\n",
       "    <tr>\n",
       "      <th>A</th>\n",
       "      <td>Ayush</td>\n",
       "    </tr>\n",
       "    <tr>\n",
       "      <th>B</th>\n",
       "      <td>Avinash</td>\n",
       "    </tr>\n",
       "    <tr>\n",
       "      <th>C</th>\n",
       "      <td>Akash</td>\n",
       "    </tr>\n",
       "    <tr>\n",
       "      <th>D</th>\n",
       "      <td>Anvi</td>\n",
       "    </tr>\n",
       "  </tbody>\n",
       "</table>\n",
       "</div>"
      ],
      "text/plain": [
       "     Names\n",
       "A    Ayush\n",
       "B  Avinash\n",
       "C    Akash\n",
       "D     Anvi"
      ]
     },
     "execution_count": 43,
     "metadata": {},
     "output_type": "execute_result"
    }
   ],
   "source": [
    "df1=df.drop('Age',\n",
    "       axis=1)                 #### Not giving inpalce=True \n",
    "df1"
   ]
  },
  {
   "cell_type": "code",
   "execution_count": 41,
   "id": "98e60e36",
   "metadata": {},
   "outputs": [
    {
     "data": {
      "text/html": [
       "<div>\n",
       "<style scoped>\n",
       "    .dataframe tbody tr th:only-of-type {\n",
       "        vertical-align: middle;\n",
       "    }\n",
       "\n",
       "    .dataframe tbody tr th {\n",
       "        vertical-align: top;\n",
       "    }\n",
       "\n",
       "    .dataframe thead th {\n",
       "        text-align: right;\n",
       "    }\n",
       "</style>\n",
       "<table border=\"1\" class=\"dataframe\">\n",
       "  <thead>\n",
       "    <tr style=\"text-align: right;\">\n",
       "      <th></th>\n",
       "      <th>Names</th>\n",
       "      <th>Age</th>\n",
       "    </tr>\n",
       "  </thead>\n",
       "  <tbody>\n",
       "    <tr>\n",
       "      <th>A</th>\n",
       "      <td>Ayush</td>\n",
       "      <td>20</td>\n",
       "    </tr>\n",
       "    <tr>\n",
       "      <th>B</th>\n",
       "      <td>Avinash</td>\n",
       "      <td>25</td>\n",
       "    </tr>\n",
       "    <tr>\n",
       "      <th>C</th>\n",
       "      <td>Akash</td>\n",
       "      <td>30</td>\n",
       "    </tr>\n",
       "    <tr>\n",
       "      <th>D</th>\n",
       "      <td>Anvi</td>\n",
       "      <td>40</td>\n",
       "    </tr>\n",
       "  </tbody>\n",
       "</table>\n",
       "</div>"
      ],
      "text/plain": [
       "     Names  Age\n",
       "A    Ayush   20\n",
       "B  Avinash   25\n",
       "C    Akash   30\n",
       "D     Anvi   40"
      ]
     },
     "execution_count": 41,
     "metadata": {},
     "output_type": "execute_result"
    }
   ],
   "source": [
    "df                     ## 3rd column aslo given because inplace=True are given to df1 "
   ]
  },
  {
   "cell_type": "markdown",
   "id": "507581eb",
   "metadata": {},
   "source": [
    "$Step-9$\n",
    "\n",
    "\n",
    "**Multiple colums drop**"
   ]
  },
  {
   "cell_type": "code",
   "execution_count": 14,
   "id": "8c4bd5ec",
   "metadata": {},
   "outputs": [
    {
     "data": {
      "text/html": [
       "<div>\n",
       "<style scoped>\n",
       "    .dataframe tbody tr th:only-of-type {\n",
       "        vertical-align: middle;\n",
       "    }\n",
       "\n",
       "    .dataframe tbody tr th {\n",
       "        vertical-align: top;\n",
       "    }\n",
       "\n",
       "    .dataframe thead th {\n",
       "        text-align: right;\n",
       "    }\n",
       "</style>\n",
       "<table border=\"1\" class=\"dataframe\">\n",
       "  <thead>\n",
       "    <tr style=\"text-align: right;\">\n",
       "      <th></th>\n",
       "      <th>Names</th>\n",
       "      <th>Age</th>\n",
       "      <th>City</th>\n",
       "    </tr>\n",
       "  </thead>\n",
       "  <tbody>\n",
       "    <tr>\n",
       "      <th>A</th>\n",
       "      <td>Ayush</td>\n",
       "      <td>20</td>\n",
       "      <td>hyd</td>\n",
       "    </tr>\n",
       "    <tr>\n",
       "      <th>B</th>\n",
       "      <td>Avinash</td>\n",
       "      <td>25</td>\n",
       "      <td>blr</td>\n",
       "    </tr>\n",
       "    <tr>\n",
       "      <th>C</th>\n",
       "      <td>Akash</td>\n",
       "      <td>30</td>\n",
       "      <td>chennai</td>\n",
       "    </tr>\n",
       "    <tr>\n",
       "      <th>D</th>\n",
       "      <td>Avni</td>\n",
       "      <td>40</td>\n",
       "      <td>Mumbai</td>\n",
       "    </tr>\n",
       "  </tbody>\n",
       "</table>\n",
       "</div>"
      ],
      "text/plain": [
       "     Names  Age     City\n",
       "A    Ayush   20      hyd\n",
       "B  Avinash   25      blr\n",
       "C    Akash   30  chennai\n",
       "D     Avni   40   Mumbai"
      ]
     },
     "execution_count": 14,
     "metadata": {},
     "output_type": "execute_result"
    }
   ],
   "source": [
    "#Again read the data\n",
    "\n",
    "import pandas as pd\n",
    "\n",
    "names = [ 'Ayush', 'Avinash', 'Akash','Avni']\n",
    "age= [20,25,30,40]\n",
    "city=['hyd','blr','chennai','Mumbai']\n",
    "\n",
    "data=zip(names,age,city)\n",
    "cols=['Names','Age','City']\n",
    "idx=['A','B','C','D']\n",
    "\n",
    "df= pd.DataFrame(data,\n",
    "                 index=idx,\n",
    "                 columns=cols)\n",
    "df"
   ]
  },
  {
   "cell_type": "code",
   "execution_count": 16,
   "id": "e7b10e61",
   "metadata": {},
   "outputs": [],
   "source": [
    "df.drop(['Age','City'],axis=1,inplace=True)"
   ]
  },
  {
   "cell_type": "code",
   "execution_count": 17,
   "id": "9bad9eeb",
   "metadata": {},
   "outputs": [
    {
     "data": {
      "text/html": [
       "<div>\n",
       "<style scoped>\n",
       "    .dataframe tbody tr th:only-of-type {\n",
       "        vertical-align: middle;\n",
       "    }\n",
       "\n",
       "    .dataframe tbody tr th {\n",
       "        vertical-align: top;\n",
       "    }\n",
       "\n",
       "    .dataframe thead th {\n",
       "        text-align: right;\n",
       "    }\n",
       "</style>\n",
       "<table border=\"1\" class=\"dataframe\">\n",
       "  <thead>\n",
       "    <tr style=\"text-align: right;\">\n",
       "      <th></th>\n",
       "      <th>Names</th>\n",
       "    </tr>\n",
       "  </thead>\n",
       "  <tbody>\n",
       "    <tr>\n",
       "      <th>A</th>\n",
       "      <td>Ayush</td>\n",
       "    </tr>\n",
       "    <tr>\n",
       "      <th>B</th>\n",
       "      <td>Avinash</td>\n",
       "    </tr>\n",
       "    <tr>\n",
       "      <th>C</th>\n",
       "      <td>Akash</td>\n",
       "    </tr>\n",
       "    <tr>\n",
       "      <th>D</th>\n",
       "      <td>Avni</td>\n",
       "    </tr>\n",
       "  </tbody>\n",
       "</table>\n",
       "</div>"
      ],
      "text/plain": [
       "     Names\n",
       "A    Ayush\n",
       "B  Avinash\n",
       "C    Akash\n",
       "D     Avni"
      ]
     },
     "execution_count": 17,
     "metadata": {},
     "output_type": "execute_result"
    }
   ],
   "source": [
    "df"
   ]
  },
  {
   "cell_type": "markdown",
   "id": "57b5ffc7",
   "metadata": {},
   "source": [
    "$Step-10$\n",
    "\n",
    "**Drop the rows**"
   ]
  },
  {
   "cell_type": "code",
   "execution_count": 2,
   "id": "3dc25072",
   "metadata": {},
   "outputs": [
    {
     "name": "stderr",
     "output_type": "stream",
     "text": [
      "C:\\Users\\RUDRA JAWANE\\AppData\\Roaming\\Python\\Python311\\site-packages\\pandas\\core\\arrays\\masked.py:60: UserWarning: Pandas requires version '1.3.6' or newer of 'bottleneck' (version '1.3.5' currently installed).\n",
      "  from pandas.core import (\n"
     ]
    }
   ],
   "source": [
    "import pandas as pd\n",
    "\n",
    "names = [ 'Ayush', 'Avinash', 'Akash','Avni']\n",
    "age= [20,25,30,40]\n",
    "city=['hyd','blr','chennai','Mumbai']\n",
    "\n",
    "data=zip(names,age,city)\n",
    "cols=['Names','Age','City']\n",
    "idx=['A','B','C','D']\n",
    "\n",
    "df= pd.DataFrame(data,\n",
    "                 index=idx,\n",
    "                 columns=cols)"
   ]
  },
  {
   "cell_type": "code",
   "execution_count": 22,
   "id": "f50eb84f",
   "metadata": {},
   "outputs": [],
   "source": [
    "df.drop('A',axis=0,inplace=True)"
   ]
  },
  {
   "cell_type": "code",
   "execution_count": 23,
   "id": "8db15ce2",
   "metadata": {},
   "outputs": [
    {
     "data": {
      "text/html": [
       "<div>\n",
       "<style scoped>\n",
       "    .dataframe tbody tr th:only-of-type {\n",
       "        vertical-align: middle;\n",
       "    }\n",
       "\n",
       "    .dataframe tbody tr th {\n",
       "        vertical-align: top;\n",
       "    }\n",
       "\n",
       "    .dataframe thead th {\n",
       "        text-align: right;\n",
       "    }\n",
       "</style>\n",
       "<table border=\"1\" class=\"dataframe\">\n",
       "  <thead>\n",
       "    <tr style=\"text-align: right;\">\n",
       "      <th></th>\n",
       "      <th>Names</th>\n",
       "      <th>Age</th>\n",
       "      <th>City</th>\n",
       "    </tr>\n",
       "  </thead>\n",
       "  <tbody>\n",
       "    <tr>\n",
       "      <th>B</th>\n",
       "      <td>Avinash</td>\n",
       "      <td>25</td>\n",
       "      <td>blr</td>\n",
       "    </tr>\n",
       "    <tr>\n",
       "      <th>C</th>\n",
       "      <td>Akash</td>\n",
       "      <td>30</td>\n",
       "      <td>chennai</td>\n",
       "    </tr>\n",
       "    <tr>\n",
       "      <th>D</th>\n",
       "      <td>Avni</td>\n",
       "      <td>40</td>\n",
       "      <td>Mumbai</td>\n",
       "    </tr>\n",
       "  </tbody>\n",
       "</table>\n",
       "</div>"
      ],
      "text/plain": [
       "     Names  Age     City\n",
       "B  Avinash   25      blr\n",
       "C    Akash   30  chennai\n",
       "D     Avni   40   Mumbai"
      ]
     },
     "execution_count": 23,
     "metadata": {},
     "output_type": "execute_result"
    }
   ],
   "source": [
    "df"
   ]
  },
  {
   "cell_type": "markdown",
   "id": "a949b0e4",
   "metadata": {},
   "source": [
    "$Step-11$\n",
    "\n",
    "**How to save the data frame**\n",
    "- Generally data frame are two types \n",
    "\n",
    "- csv(comma seperated value)\n",
    "\n",
    "- excel"
   ]
  },
  {
   "cell_type": "code",
   "execution_count": 28,
   "id": "ba39680e",
   "metadata": {},
   "outputs": [],
   "source": [
    "# files name = data \n",
    "# extension =.csv\n",
    "\n",
    "df.to_csv('data.csv')\n",
    "\n",
    "df.to_csv('data1.csv',index=False)              # if not required a index"
   ]
  },
  {
   "cell_type": "code",
   "execution_count": 4,
   "id": "439646d4",
   "metadata": {},
   "outputs": [],
   "source": [
    "# Extension \n",
    "# .xlsx\n",
    "\n",
    "df.to_excel(\"data3.xlsx\")"
   ]
  },
  {
   "cell_type": "code",
   "execution_count": null,
   "id": "81ced76d",
   "metadata": {},
   "outputs": [],
   "source": []
  }
 ],
 "metadata": {
  "kernelspec": {
   "display_name": "Python 3 (ipykernel)",
   "language": "python",
   "name": "python3"
  },
  "language_info": {
   "codemirror_mode": {
    "name": "ipython",
    "version": 3
   },
   "file_extension": ".py",
   "mimetype": "text/x-python",
   "name": "python",
   "nbconvert_exporter": "python",
   "pygments_lexer": "ipython3",
   "version": "3.11.5"
  }
 },
 "nbformat": 4,
 "nbformat_minor": 5
}
