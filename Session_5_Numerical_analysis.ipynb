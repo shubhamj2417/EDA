{
 "cells": [
  {
   "cell_type": "markdown",
   "id": "c78798c3",
   "metadata": {},
   "source": [
    "**Import package**"
   ]
  },
  {
   "cell_type": "code",
   "execution_count": 7,
   "id": "8b8ff347",
   "metadata": {},
   "outputs": [
    {
     "name": "stderr",
     "output_type": "stream",
     "text": [
      "C:\\Users\\RUDRA JAWANE\\AppData\\Roaming\\Python\\Python311\\site-packages\\pandas\\core\\arrays\\masked.py:60: UserWarning: Pandas requires version '1.3.6' or newer of 'bottleneck' (version '1.3.5' currently installed).\n",
      "  from pandas.core import (\n"
     ]
    }
   ],
   "source": [
    "import pandas as pd \n",
    "import numpy as np \n",
    "import matplotlib.pyplot as plt\n",
    "import seaborn as sns"
   ]
  },
  {
   "cell_type": "code",
   "execution_count": 8,
   "id": "8b36e716",
   "metadata": {},
   "outputs": [
    {
     "data": {
      "text/html": [
       "<div>\n",
       "<style scoped>\n",
       "    .dataframe tbody tr th:only-of-type {\n",
       "        vertical-align: middle;\n",
       "    }\n",
       "\n",
       "    .dataframe tbody tr th {\n",
       "        vertical-align: top;\n",
       "    }\n",
       "\n",
       "    .dataframe thead th {\n",
       "        text-align: right;\n",
       "    }\n",
       "</style>\n",
       "<table border=\"1\" class=\"dataframe\">\n",
       "  <thead>\n",
       "    <tr style=\"text-align: right;\">\n",
       "      <th></th>\n",
       "      <th>case_id</th>\n",
       "      <th>continent</th>\n",
       "      <th>education_of_employee</th>\n",
       "      <th>has_job_experience</th>\n",
       "      <th>requires_job_training</th>\n",
       "      <th>no_of_employees</th>\n",
       "      <th>yr_of_estab</th>\n",
       "      <th>region_of_employment</th>\n",
       "      <th>prevailing_wage</th>\n",
       "      <th>unit_of_wage</th>\n",
       "      <th>full_time_position</th>\n",
       "      <th>case_status</th>\n",
       "    </tr>\n",
       "  </thead>\n",
       "  <tbody>\n",
       "    <tr>\n",
       "      <th>0</th>\n",
       "      <td>EZYV01</td>\n",
       "      <td>Asia</td>\n",
       "      <td>High School</td>\n",
       "      <td>N</td>\n",
       "      <td>N</td>\n",
       "      <td>14513</td>\n",
       "      <td>2007</td>\n",
       "      <td>West</td>\n",
       "      <td>592.2029</td>\n",
       "      <td>Hour</td>\n",
       "      <td>Y</td>\n",
       "      <td>Denied</td>\n",
       "    </tr>\n",
       "    <tr>\n",
       "      <th>1</th>\n",
       "      <td>EZYV02</td>\n",
       "      <td>Asia</td>\n",
       "      <td>Master's</td>\n",
       "      <td>Y</td>\n",
       "      <td>N</td>\n",
       "      <td>2412</td>\n",
       "      <td>2002</td>\n",
       "      <td>Northeast</td>\n",
       "      <td>83425.6500</td>\n",
       "      <td>Year</td>\n",
       "      <td>Y</td>\n",
       "      <td>Certified</td>\n",
       "    </tr>\n",
       "  </tbody>\n",
       "</table>\n",
       "</div>"
      ],
      "text/plain": [
       "  case_id continent education_of_employee has_job_experience  \\\n",
       "0  EZYV01      Asia           High School                  N   \n",
       "1  EZYV02      Asia              Master's                  Y   \n",
       "\n",
       "  requires_job_training  no_of_employees  yr_of_estab region_of_employment  \\\n",
       "0                     N            14513         2007                 West   \n",
       "1                     N             2412         2002            Northeast   \n",
       "\n",
       "   prevailing_wage unit_of_wage full_time_position case_status  \n",
       "0         592.2029         Hour                  Y      Denied  \n",
       "1       83425.6500         Year                  Y   Certified  "
      ]
     },
     "execution_count": 8,
     "metadata": {},
     "output_type": "execute_result"
    }
   ],
   "source": [
    "visa_df=pd.read_csv(r\"C:\\Users\\RUDRA JAWANE\\Documents\\Naresh IT\\DataType\\Visadataset.csv\")\n",
    "visa_df.head(2)"
   ]
  },
  {
   "cell_type": "markdown",
   "id": "3905f7d4",
   "metadata": {},
   "source": [
    "**Select the numerical columns**"
   ]
  },
  {
   "cell_type": "code",
   "execution_count": 8,
   "id": "1a0902c2",
   "metadata": {},
   "outputs": [
    {
     "data": {
      "text/plain": [
       "Index(['no_of_employees', 'yr_of_estab', 'prevailing_wage'], dtype='object')"
      ]
     },
     "execution_count": 8,
     "metadata": {},
     "output_type": "execute_result"
    }
   ],
   "source": [
    "visa_df.select_dtypes(exclude='object').columns"
   ]
  },
  {
   "cell_type": "markdown",
   "id": "32c15fdb",
   "metadata": {},
   "source": [
    "**preaviling_wage**\n",
    "\n",
    "- len \n",
    "\n",
    "- max\n",
    "\n",
    "- min\n",
    "\n",
    "- mean\n",
    "\n",
    "- median\n",
    "\n",
    "- std\n",
    "\n",
    "- 75%\n",
    "\n",
    "- 50%\n",
    "\n",
    "- 25%"
   ]
  },
  {
   "cell_type": "markdown",
   "id": "cd00a1ad",
   "metadata": {},
   "source": [
    "**Count or len**"
   ]
  },
  {
   "cell_type": "code",
   "execution_count": 13,
   "id": "7c5808a7",
   "metadata": {},
   "outputs": [
    {
     "data": {
      "text/plain": [
       "25480"
      ]
     },
     "execution_count": 13,
     "metadata": {},
     "output_type": "execute_result"
    }
   ],
   "source": [
    "len(visa_df['prevailing_wage'])"
   ]
  },
  {
   "cell_type": "markdown",
   "id": "aabe572b",
   "metadata": {},
   "source": [
    "**Max**"
   ]
  },
  {
   "cell_type": "code",
   "execution_count": 15,
   "id": "b87f7a32",
   "metadata": {},
   "outputs": [
    {
     "data": {
      "text/plain": [
       "319210.27"
      ]
     },
     "execution_count": 15,
     "metadata": {},
     "output_type": "execute_result"
    }
   ],
   "source": [
    "max(visa_df['prevailing_wage'])  # keyword"
   ]
  },
  {
   "cell_type": "code",
   "execution_count": 17,
   "id": "05915514",
   "metadata": {},
   "outputs": [
    {
     "data": {
      "text/plain": [
       "319210.27"
      ]
     },
     "execution_count": 17,
     "metadata": {},
     "output_type": "execute_result"
    }
   ],
   "source": [
    "visa_df['prevailing_wage'].max()   #pandas"
   ]
  },
  {
   "cell_type": "code",
   "execution_count": 18,
   "id": "373ac057",
   "metadata": {},
   "outputs": [
    {
     "data": {
      "text/plain": [
       "319210.27"
      ]
     },
     "execution_count": 18,
     "metadata": {},
     "output_type": "execute_result"
    }
   ],
   "source": [
    "np.max(visa_df['prevailing_wage'])  # Numpy"
   ]
  },
  {
   "cell_type": "markdown",
   "id": "4021a2e2",
   "metadata": {},
   "source": [
    "**Min**"
   ]
  },
  {
   "cell_type": "code",
   "execution_count": 21,
   "id": "9a21f204",
   "metadata": {},
   "outputs": [
    {
     "data": {
      "text/plain": [
       "2.1367"
      ]
     },
     "execution_count": 21,
     "metadata": {},
     "output_type": "execute_result"
    }
   ],
   "source": [
    "min(visa_df['prevailing_wage'])  # keywords"
   ]
  },
  {
   "cell_type": "code",
   "execution_count": 22,
   "id": "1f21b25b",
   "metadata": {},
   "outputs": [
    {
     "data": {
      "text/plain": [
       "2.1367"
      ]
     },
     "execution_count": 22,
     "metadata": {},
     "output_type": "execute_result"
    }
   ],
   "source": [
    "visa_df['prevailing_wage'].min()   # Pandas"
   ]
  },
  {
   "cell_type": "code",
   "execution_count": 23,
   "id": "fcfcd3c1",
   "metadata": {},
   "outputs": [
    {
     "data": {
      "text/plain": [
       "2.1367"
      ]
     },
     "execution_count": 23,
     "metadata": {},
     "output_type": "execute_result"
    }
   ],
   "source": [
    "np.min(visa_df['prevailing_wage']) # numpy "
   ]
  },
  {
   "cell_type": "markdown",
   "id": "ce20427b",
   "metadata": {},
   "source": [
    "**Mean**"
   ]
  },
  {
   "cell_type": "code",
   "execution_count": 24,
   "id": "b430e834",
   "metadata": {},
   "outputs": [
    {
     "data": {
      "text/plain": [
       "74455.81459209183"
      ]
     },
     "execution_count": 24,
     "metadata": {},
     "output_type": "execute_result"
    }
   ],
   "source": [
    "visa_df['prevailing_wage'].mean()"
   ]
  },
  {
   "cell_type": "code",
   "execution_count": 25,
   "id": "87143118",
   "metadata": {},
   "outputs": [
    {
     "data": {
      "text/plain": [
       "74455.81459209183"
      ]
     },
     "execution_count": 25,
     "metadata": {},
     "output_type": "execute_result"
    }
   ],
   "source": [
    "np.mean(visa_df['prevailing_wage'])"
   ]
  },
  {
   "cell_type": "markdown",
   "id": "69ecd855",
   "metadata": {},
   "source": [
    "**Median**"
   ]
  },
  {
   "cell_type": "code",
   "execution_count": 29,
   "id": "422ba94b",
   "metadata": {},
   "outputs": [
    {
     "data": {
      "text/plain": [
       "70308.20999999999"
      ]
     },
     "execution_count": 29,
     "metadata": {},
     "output_type": "execute_result"
    }
   ],
   "source": [
    "visa_df['prevailing_wage'].median()"
   ]
  },
  {
   "cell_type": "markdown",
   "id": "4e3e06f1",
   "metadata": {},
   "source": [
    "**Std**"
   ]
  },
  {
   "cell_type": "code",
   "execution_count": 26,
   "id": "cc50d29c",
   "metadata": {},
   "outputs": [
    {
     "data": {
      "text/plain": [
       "52815.94232687371"
      ]
     },
     "execution_count": 26,
     "metadata": {},
     "output_type": "execute_result"
    }
   ],
   "source": [
    "visa_df['prevailing_wage'].std()"
   ]
  },
  {
   "cell_type": "code",
   "execution_count": 27,
   "id": "c918f900",
   "metadata": {},
   "outputs": [
    {
     "data": {
      "text/plain": [
       "52814.90589711416"
      ]
     },
     "execution_count": 27,
     "metadata": {},
     "output_type": "execute_result"
    }
   ],
   "source": [
    "np.std(visa_df['prevailing_wage'])"
   ]
  },
  {
   "cell_type": "markdown",
   "id": "79f31e8a",
   "metadata": {},
   "source": [
    "**Mode is not good option because it is numerical variables**"
   ]
  },
  {
   "cell_type": "code",
   "execution_count": 39,
   "id": "4fe31664",
   "metadata": {},
   "outputs": [
    {
     "data": {
      "text/html": [
       "<div>\n",
       "<style scoped>\n",
       "    .dataframe tbody tr th:only-of-type {\n",
       "        vertical-align: middle;\n",
       "    }\n",
       "\n",
       "    .dataframe tbody tr th {\n",
       "        vertical-align: top;\n",
       "    }\n",
       "\n",
       "    .dataframe thead th {\n",
       "        text-align: right;\n",
       "    }\n",
       "</style>\n",
       "<table border=\"1\" class=\"dataframe\">\n",
       "  <thead>\n",
       "    <tr style=\"text-align: right;\">\n",
       "      <th></th>\n",
       "      <th>prevailing_wage</th>\n",
       "    </tr>\n",
       "  </thead>\n",
       "  <tbody>\n",
       "    <tr>\n",
       "      <th>count</th>\n",
       "      <td>25480.00</td>\n",
       "    </tr>\n",
       "    <tr>\n",
       "      <th>min</th>\n",
       "      <td>2.14</td>\n",
       "    </tr>\n",
       "    <tr>\n",
       "      <th>max</th>\n",
       "      <td>319210.27</td>\n",
       "    </tr>\n",
       "    <tr>\n",
       "      <th>mean</th>\n",
       "      <td>74455.81</td>\n",
       "    </tr>\n",
       "    <tr>\n",
       "      <th>median</th>\n",
       "      <td>70308.21</td>\n",
       "    </tr>\n",
       "    <tr>\n",
       "      <th>std</th>\n",
       "      <td>52815.94</td>\n",
       "    </tr>\n",
       "  </tbody>\n",
       "</table>\n",
       "</div>"
      ],
      "text/plain": [
       "        prevailing_wage\n",
       "count          25480.00\n",
       "min                2.14\n",
       "max           319210.27\n",
       "mean           74455.81\n",
       "median         70308.21\n",
       "std            52815.94"
      ]
     },
     "execution_count": 39,
     "metadata": {},
     "output_type": "execute_result"
    }
   ],
   "source": [
    "### All Together\n",
    "\n",
    "\n",
    "wage_count= round(len(visa_df['prevailing_wage']),2)\n",
    "wage_min= round(visa_df['prevailing_wage'].min(),2)\n",
    "wage_max= round(visa_df['prevailing_wage'].max(),2)\n",
    "wage_mean= round(visa_df['prevailing_wage'].mean(),2)\n",
    "wage_median= round(visa_df['prevailing_wage'].median(),2)\n",
    "wage_std= round(visa_df['prevailing_wage'].std(),2)\n",
    "\n",
    "list_values=[wage_count,wage_min,wage_max,wage_mean,\n",
    "             wage_median,wage_std]\n",
    "index_val=['count','min','max','mean','median','std']\n",
    "\n",
    "pd.DataFrame(list_values,\n",
    "            columns=['prevailing_wage'],\n",
    "            index=index_val)\n"
   ]
  },
  {
   "cell_type": "markdown",
   "id": "6a418d9a",
   "metadata": {},
   "source": [
    "**Percentile and Quantile**\n",
    "\n",
    " - Percentile:\n",
    " \n",
    "     - np.percentile()\n",
    "     \n",
    "     - It will take two arguments\n",
    "     \n",
    "       - data : a\n",
    "       \n",
    "       - percentile : q the values varies from 0 to 100\n",
    "       \n",
    "       - If you want 50P data q=50 \n",
    "       \n",
    " - Quantile:\n",
    " \n",
    "      - np.quantile()\n",
    "       \n",
    "      - It will take two arguments\n",
    "       \n",
    "       \n",
    "           - data : a\n",
    "           \n",
    "           - percentile: q the values varies from 0 to 1\n",
    "           \n",
    "           - If you want 50P q = 0.5"
   ]
  },
  {
   "cell_type": "markdown",
   "id": "20b6be5a",
   "metadata": {},
   "source": [
    "**25P - 50P  - 75P**"
   ]
  },
  {
   "cell_type": "code",
   "execution_count": 18,
   "id": "e975888f",
   "metadata": {},
   "outputs": [
    {
     "name": "stdout",
     "output_type": "stream",
     "text": [
      "The 25% data is 34015.48\n",
      "The 50% data is 70308.21\n",
      "The 75% data is 107735.51\n"
     ]
    }
   ],
   "source": [
    "wage_25p=round(np.percentile(visa_df['prevailing_wage'],25),2)\n",
    "wage_50p=round(np.percentile(visa_df['prevailing_wage'],50),2)\n",
    "wage_75p=round(np.percentile(visa_df['prevailing_wage'],75),2)\n",
    "\n",
    "\n",
    "print(f\"The 25% data is {wage_25p}\")\n",
    "print(f\"The 50% data is {wage_50p}\")\n",
    "print(f\"The 75% data is {wage_75p}\")"
   ]
  },
  {
   "cell_type": "code",
   "execution_count": 16,
   "id": "ffa74c16",
   "metadata": {},
   "outputs": [
    {
     "data": {
      "text/plain": [
       "34.89678"
      ]
     },
     "execution_count": 16,
     "metadata": {},
     "output_type": "execute_result"
    }
   ],
   "source": [
    "34.89678"
   ]
  },
  {
   "cell_type": "code",
   "execution_count": 17,
   "id": "7dff1208",
   "metadata": {},
   "outputs": [
    {
     "data": {
      "text/plain": [
       "34.9"
      ]
     },
     "execution_count": 17,
     "metadata": {},
     "output_type": "execute_result"
    }
   ],
   "source": [
    "round(34.89678,2)"
   ]
  },
  {
   "cell_type": "markdown",
   "id": "d9126588",
   "metadata": {},
   "source": [
    "**Quantile in betn 0 to 1**"
   ]
  },
  {
   "cell_type": "code",
   "execution_count": 21,
   "id": "d670b3df",
   "metadata": {},
   "outputs": [
    {
     "name": "stdout",
     "output_type": "stream",
     "text": [
      "The 25% data is 34015.48\n",
      "The 50% data is 70308.21\n",
      "The 75% data is 107735.51\n"
     ]
    }
   ],
   "source": [
    "wage_25=round(np.quantile(visa_df['prevailing_wage'],0.25),2)\n",
    "wage_50=round(np.quantile(visa_df['prevailing_wage'],0.50),2)\n",
    "wage_75=round(np.quantile(visa_df['prevailing_wage'],0.75),2)\n",
    "\n",
    "\n",
    "\n",
    "print(f\"The 25% data is {wage_25p}\")\n",
    "print(f\"The 50% data is {wage_50p}\")\n",
    "print(f\"The 75% data is {wage_75p}\")"
   ]
  },
  {
   "cell_type": "markdown",
   "id": "590f1dab",
   "metadata": {},
   "source": [
    "**Understand the percentiles**\n",
    "\n",
    "\n",
    "- Defination of 25percentile\n",
    "\n",
    "   - There 25% of employees has salary less than 34015\n",
    "   \n",
    "   - Total employees = 25480\n",
    "   \n",
    "   - 25% of employess = 25*25480/100 = 6370\n",
    "   \n",
    "   - 6370 employess salary less than 34015"
   ]
  },
  {
   "cell_type": "code",
   "execution_count": 24,
   "id": "705ee6bf",
   "metadata": {},
   "outputs": [
    {
     "data": {
      "text/plain": [
       "6370"
      ]
     },
     "execution_count": 24,
     "metadata": {},
     "output_type": "execute_result"
    }
   ],
   "source": [
    "con=visa_df['prevailing_wage']<34015\n",
    "len(visa_df[con])"
   ]
  },
  {
   "cell_type": "code",
   "execution_count": 25,
   "id": "40b99015",
   "metadata": {},
   "outputs": [
    {
     "data": {
      "text/plain": [
       "6370"
      ]
     },
     "execution_count": 25,
     "metadata": {},
     "output_type": "execute_result"
    }
   ],
   "source": [
    "con=visa_df['prevailing_wage']<wage_25p\n",
    "len(visa_df[con])"
   ]
  },
  {
   "cell_type": "code",
   "execution_count": 26,
   "id": "7d367051",
   "metadata": {},
   "outputs": [
    {
     "data": {
      "text/plain": [
       "12740"
      ]
     },
     "execution_count": 26,
     "metadata": {},
     "output_type": "execute_result"
    }
   ],
   "source": [
    "con=visa_df['prevailing_wage']<wage_50p\n",
    "len(visa_df[con])\n",
    "\n",
    "# 50*25480/100"
   ]
  },
  {
   "cell_type": "code",
   "execution_count": 27,
   "id": "f9513e23",
   "metadata": {},
   "outputs": [
    {
     "data": {
      "text/plain": [
       "19110"
      ]
     },
     "execution_count": 27,
     "metadata": {},
     "output_type": "execute_result"
    }
   ],
   "source": [
    "con=visa_df['prevailing_wage']<wage_75p\n",
    "len(visa_df[con])"
   ]
  },
  {
   "cell_type": "markdown",
   "id": "c012aab1",
   "metadata": {},
   "source": [
    "**Emperical rule (68-95-99.7)**\n",
    "\n"
   ]
  },
  {
   "cell_type": "code",
   "execution_count": null,
   "id": "0b7583aa",
   "metadata": {},
   "outputs": [],
   "source": []
  }
 ],
 "metadata": {
  "kernelspec": {
   "display_name": "Python 3 (ipykernel)",
   "language": "python",
   "name": "python3"
  },
  "language_info": {
   "codemirror_mode": {
    "name": "ipython",
    "version": 3
   },
   "file_extension": ".py",
   "mimetype": "text/x-python",
   "name": "python",
   "nbconvert_exporter": "python",
   "pygments_lexer": "ipython3",
   "version": "3.11.5"
  }
 },
 "nbformat": 4,
 "nbformat_minor": 5
}
